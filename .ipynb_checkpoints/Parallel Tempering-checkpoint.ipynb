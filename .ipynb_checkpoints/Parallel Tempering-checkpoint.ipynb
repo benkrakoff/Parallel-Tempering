{
 "cells": [
  {
   "cell_type": "code",
   "execution_count": 132,
   "metadata": {},
   "outputs": [],
   "source": [
    "import numpy as np\n",
    "rng = np.random.default_rng()\n",
    "\n",
    "#A copy of the Edwards-Anderson Ising model to be run at a specific temperature\n",
    "class Replica:\n",
    "    size = 0\n",
    "    temp = 0.0\n",
    "    energy = 0\n",
    "    \n",
    "    hamiltonian = None\n",
    "    state = None\n",
    "    \n",
    "    min_energy = 0\n",
    "    min_state = None\n",
    "    \n",
    "    def __init__(self, hamiltonian_in, temp_in, state_in = None):\n",
    "        self.temp = temp_in\n",
    "        self.hamiltonian = hamiltonian_in\n",
    "        self.size = hamiltonian_in.shape[0]\n",
    "        \n",
    "        if state_in == None:\n",
    "            A = np.zeros(self.size)\n",
    "            A.fill(.5)\n",
    "            self.state = 2*(rng.binomial(1, .5, self.size) - A) #initializes nodes to +-1 with probability 1/2\n",
    "        else:\n",
    "            self.state = state_in\n",
    "            \n",
    "        self.energy = np.matmul(self.state, np.matmul(self.hamiltonian, self.state))\n",
    "        self.min_energy = self.energy\n",
    "        self.min_state = self.state\n",
    "        \n",
    "    #Monte-Carlo step with single flip update\n",
    "    def MC_step(self):\n",
    "        flip = np.random.randint(self.size) #propose a site to flip\n",
    "        new_state = self.state.copy()\n",
    "        new_state[flip] = -new_state[flip]\n",
    "        \n",
    "        delta_E = np.matmul(new_state, np.matmul(self.hamiltonian, new_state)) - self.energy\n",
    "        \n",
    "        if delta_E < 0:\n",
    "            self.state = new_state\n",
    "            self.energy += delta_E\n",
    "        else:\n",
    "            r = np.random.uniform(0, 1)\n",
    "            if r < np.exp(-delta_E/self.temp): #rejection sampling\n",
    "                self.state = new_state\n",
    "                self.energy+= delta_E\n",
    "                \n",
    "        if (self.energy < self.min_energy):\n",
    "            self.min_energy = self.energy\n",
    "            self.min_state = self.state\n"
   ]
  },
  {
   "cell_type": "code",
   "execution_count": 149,
   "metadata": {},
   "outputs": [],
   "source": [
    "N = 100\n",
    "path_hamiltonian = np.zeros((N, N))\n",
    "\n",
    "for i in range(N):\n",
    "    for j in range(N):\n",
    "        if (i+1)%N == j or (i-1)%N == j:\n",
    "            path_hamiltonian[i][j] = -1\n",
    "\n",
    "\n",
    "A = np.zeros((N, N))\n",
    "A.fill(.5)\n",
    "random_hamiltonian = 2*(rng.binomial(1, .5, (N, N)) - A)\n",
    "random_hamiltonian = (random_hamiltonian + random_hamiltonian.T)/2\n",
    "\n",
    "for i in range(N):\n",
    "    random_hamiltonian[i][i] = 0"
   ]
  },
  {
   "cell_type": "code",
   "execution_count": 142,
   "metadata": {},
   "outputs": [],
   "source": [
    "def lowest_energy(ensemble):\n",
    "    \n",
    "    energy = 10**6\n",
    "    state = None\n",
    "    for config in ensemble:\n",
    "        if config.min_energy < energy:\n",
    "            energy = config.min_energy\n",
    "            state = config.min_state\n",
    "            \n",
    "    return energy, state \n",
    "\n",
    "def MC_simul(replica, n_steps, signal):\n",
    "    \n",
    "    for i in range(n_steps):\n",
    "        replica.MC_step()\n",
    "        \n",
    "    signal[\"Threads Finished\"] += 1"
   ]
  },
  {
   "cell_type": "code",
   "execution_count": 157,
   "metadata": {},
   "outputs": [],
   "source": [
    "import threading\n",
    "import time\n",
    "\n",
    "T = np.arange(1, 10, .5) #range of temperatures\n",
    "num_MC_steps = N #number of regular MC steps before proposed swaps, start with # of sites\n",
    "num_swaps = len(T)**2 #number of swaps proposed, start with #temps^2\n",
    "\n",
    "ensemble = [Replica(random_hamiltonian, temp) for temp in T]\n",
    "min_energy = 0\n",
    "min_energy_state = None\n",
    "num_actual_swaps = 0\n",
    "\n",
    "for i in range(num_swaps):\n",
    "    \n",
    "    min_energy, min_energy_state = lowest_energy(ensemble)\n",
    "    threads = {}\n",
    "    signal = {\"Threads Finished\":0}\n",
    "    \n",
    "    for replica in ensemble: #run each replica for N steps in its own thread\n",
    "        threads[replica] = threading.Thread(target = MC_simul, args = (replica, N, signal))\n",
    "        threads[replica].start()\n",
    "        \n",
    "    while signal[\"Threads Finished\"] != len(ensemble): #wait for threads to finish\n",
    "        time.sleep(1) \n",
    "    \n",
    "    min_energy, min_energy_state = lowest_energy(ensemble)\n",
    "    \n",
    "    swap = np.random.randint(len(ensemble)-1) #propose to swap\n",
    "    delta_E = (1/T[swap] - 1/T[swap+1])*(ensemble[swap+1].energy - ensemble[swap].energy)\n",
    "    \n",
    "    if delta_E < 0:\n",
    "        temp_state = ensemble[swap].state.copy()\n",
    "        ensemble[swap].state = ensemble[swap+1].state.copy()\n",
    "        ensemble[swap+1].state = temp_state\n",
    "        num_actual_swaps += 1\n",
    "    else:\n",
    "        r = np.random.uniform(0, 1)\n",
    "        if r < np.exp(-delta_E): #rejection sampling\n",
    "            temp_state = ensemble[swap].state.copy()\n",
    "            ensemble[swap].state = ensemble[swap+1].state.copy()\n",
    "            ensemble[swap+1].state = temp_state\n",
    "            num_actual_swaps += 1\n",
    "    "
   ]
  },
  {
   "cell_type": "code",
   "execution_count": 3,
   "metadata": {},
   "outputs": [
    {
     "data": {
      "text/plain": [
       "1.0043158531188965"
      ]
     },
     "execution_count": 3,
     "metadata": {},
     "output_type": "execute_result"
    }
   ],
   "source": []
  },
  {
   "cell_type": "code",
   "execution_count": null,
   "metadata": {},
   "outputs": [],
   "source": []
  }
 ],
 "metadata": {
  "kernelspec": {
   "display_name": "Python 3",
   "language": "python",
   "name": "python3"
  },
  "language_info": {
   "codemirror_mode": {
    "name": "ipython",
    "version": 3
   },
   "file_extension": ".py",
   "mimetype": "text/x-python",
   "name": "python",
   "nbconvert_exporter": "python",
   "pygments_lexer": "ipython3",
   "version": "3.8.2"
  }
 },
 "nbformat": 4,
 "nbformat_minor": 4
}

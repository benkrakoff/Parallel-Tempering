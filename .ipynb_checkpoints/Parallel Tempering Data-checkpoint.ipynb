{
 "cells": [
  {
   "cell_type": "code",
   "execution_count": 1,
   "metadata": {},
   "outputs": [],
   "source": [
    "import numpy as np\n",
    "rng = np.random.default_rng()\n",
    "N = 100\n",
    "path_hamiltonian = np.zeros((N, N))\n",
    "\n",
    "#creating a path hamiltonian and random hamiltonian for testing\n",
    "for i in range(N):\n",
    "    for j in range(N):\n",
    "        if (i+1)%N == j or (i-1)%N == j:\n",
    "            path_hamiltonian[i][j] = -1\n",
    "\n",
    "\n",
    "A = np.zeros((N, N))\n",
    "A.fill(.5)\n",
    "random_hamiltonian = 2*(rng.binomial(1, .5, (N, N)) - A)\n",
    "random_hamiltonian = (random_hamiltonian + random_hamiltonian.T)/2\n",
    "\n",
    "for i in range(N):\n",
    "    random_hamiltonian[i][i] = 0\n",
    "    \n",
    "#produces a hamiltonian from sampler data file\n",
    "def hamiltonian(filename):\n",
    "    df = pd.read_csv(filename)\n",
    "    indices = df.columns[1:]\n",
    "    size = len(indices)\n",
    "    H = np.zeros((size, size))\n",
    "    \n",
    "    for i in range(size):\n",
    "        for j in range(size):\n",
    "            H[i][j] = df.at[j, indices[i]]\n",
    "            \n",
    "    return H\n",
    "\n",
    "#computes the number of indices where two states differ\n",
    "def discrepancy(state1, state2):\n",
    "    d1 = sum(abs(state1+state2))/2\n",
    "    d2 = sum(abs(state1-state2))/2\n",
    "    return min(d1, d2)\n",
    "\n",
    "#finds the smallest discrepency between states of minimal energy\n",
    "def min_discrepancy(min_state, filename):\n",
    "    row = 0\n",
    "    sampler_data = pd.read_csv(filename)\n",
    "    \n",
    "    sampler_min_energy = sampler_data.at[row, 'energy']\n",
    "    min_discr = discrepancy(min_state, [sampler_data.iat[row, i+1] for i in range(len(sampler_data.columns)-4)])\n",
    "    \n",
    "    while sampler_data.at[row+1, 'energy'] == sampler_min_energy:\n",
    "        row += 1\n",
    "        row_discrepancy = discrepancy(min_state, [sampler_data.iat[row, i+1] for i in range(len(sampler_data.columns)-4)])\n",
    "        if row_discrepancy < min_discr:\n",
    "            min_discr = row_discrepancy\n",
    "        \n",
    "    return min_discr"
   ]
  },
  {
   "cell_type": "code",
   "execution_count": 25,
   "metadata": {},
   "outputs": [
    {
     "name": "stdout",
     "output_type": "stream",
     "text": [
      "Finished Cliq 1 at 3.108314275741577\n",
      "Finished Peg 1 at 5.119549989700317\n",
      "Finished Peg Gauss 1 at 7.127390146255493\n",
      "Finished Clique Gauss 1 at 11.13465404510498\n",
      "Finished Cliq 2 at 14.282234907150269\n",
      "Finished Peg 2 at 16.29475426673889\n",
      "Finished Peg Gauss 2 at 18.304511070251465\n",
      "Finished Clique Gauss 2 at 22.31747794151306\n",
      "Finished Cliq 3 at 25.471494913101196\n",
      "Finished Peg 3 at 27.553489923477173\n",
      "Finished Peg Gauss 3 at 29.561105012893677\n",
      "Finished Clique Gauss 3 at 33.66275906562805\n",
      "Finished Cliq 4 at 36.8216872215271\n",
      "Finished Peg 4 at 38.84158110618591\n",
      "Finished Peg Gauss 4 at 40.84583830833435\n",
      "Finished Clique Gauss 4 at 44.87110114097595\n",
      "Finished Cliq 5 at 48.020952224731445\n",
      "Finished Peg 5 at 50.02446508407593\n",
      "Finished Peg Gauss 5 at 52.02549910545349\n",
      "Finished Clique Gauss 5 at 56.036297082901\n",
      "Finished Cliq 6 at 64.21720814704895\n",
      "Finished Peg 6 at 124.34529709815979\n",
      "Finished Peg Gauss 6 at 164.66627621650696\n",
      "Finished Clique Gauss 6 at 170.73293495178223\n",
      "Finished Cliq 7 at 179.2683892250061\n",
      "Finished Peg 7 at 239.83822226524353\n",
      "Finished Peg Gauss 7 at 280.3427941799164\n",
      "Finished Clique Gauss 7 at 286.42192912101746\n",
      "Finished Cliq 8 at 295.07972717285156\n",
      "Finished Peg 8 at 355.1622061729431\n",
      "Finished Peg Gauss 8 at 395.59414935112\n",
      "Finished Clique Gauss 8 at 401.6438841819763\n",
      "Finished Cliq 9 at 410.6899871826172\n",
      "Finished Peg 9 at 470.9117271900177\n",
      "Finished Peg Gauss 9 at 511.27706503868103\n",
      "Finished Clique Gauss 9 at 517.2982139587402\n",
      "Finished Cliq 10 at 526.2824831008911\n",
      "Finished Peg 10 at 592.3977770805359\n",
      "Finished Peg Gauss 10 at 632.5622301101685\n",
      "Finished Clique Gauss 10 at 638.657320022583\n"
     ]
    }
   ],
   "source": [
    "import pandas as pd\n",
    "import time\n",
    "import ParallelTempering\n",
    "\n",
    "#time_data = pd.read_csv(\"Data/Time_Data.csv\")\n",
    "comparison_data = {}\n",
    "comparison_data_rows = ['PT Min energy', 'DWave Min Energy', 'Discrepancy']\n",
    "start_time = time.time()\n",
    "\n",
    "for i in range(1, 11):\n",
    "    cliqfile = \"Data/Clique_Hamiltonian_\" + str(i)\n",
    "    pegfile = \"Data/Pegasus_Hamiltonian_\" + str(i)\n",
    "    gaussfile = \"Data/Gauss_Hamiltonian_\" + str(i)\n",
    "    cliqgaussfile = \"Data/Clique_Gauss_Hamiltonian_\" + str(i)\n",
    "    \n",
    "    cliq_hamiltonian = hamiltonian(cliqfile)\n",
    "    peg_hamiltonian = hamiltonian(pegfile)\n",
    "    gauss_hamiltonian = hamiltonian(gaussfile)\n",
    "    cliq_gauss_hamiltonian = hamiltonian(cliqgaussfile)\n",
    "    \n",
    "    temperatures = np.arange(1, 10, .5)\n",
    "    \n",
    "    cliq_time = 0\n",
    "    peg_time = 0\n",
    "    gauss_time = 0\n",
    "    cliq_gauss_time = 0\n",
    "    \n",
    "    if i < 6:\n",
    "        cliq_time = 3\n",
    "        peg_time = 2\n",
    "        gauss_time = 2\n",
    "        cliq_gauss_time = 4\n",
    "    else:\n",
    "        cliq_time = 5\n",
    "        peg_time = 60\n",
    "        gauss_time = 40\n",
    "        cliq_gauss_time = 6\n",
    "        \n",
    "    \n",
    "    cliq_results = ParallelTempering.timed_find_min(cliq_hamiltonian, temperatures, cliq_time)\n",
    "    print(\"Finished Cliq \" + str(i) + \" at \" + str(time.time() - start_time))\n",
    "    peg_results = ParallelTempering.timed_find_min(peg_hamiltonian, temperatures, peg_time)\n",
    "    print(\"Finished Peg \" + str(i) + \" at \" + str(time.time() - start_time))\n",
    "    gauss_results = ParallelTempering.timed_find_min(gauss_hamiltonian, temperatures, gauss_time)\n",
    "    print(\"Finished Peg Gauss \" +str(i) + \" at \" + str(time.time()-start_time))\n",
    "    cliq_gauss_results = ParallelTempering.timed_find_min(cliq_gauss_hamiltonian, temperatures, cliq_gauss_time)\n",
    "    print(\"Finished Clique Gauss \" +str(i) + \" at \" + str(time.time()-start_time))\n",
    "    \n",
    "    dwave_cliq = pd.read_csv(\"Data/Clique_Sampler_Data_\" + str(i))\n",
    "    dwave_peg = pd.read_csv(\"Data/Pegasus_Sampler_Data_\" + str(i))\n",
    "    dwave_gauss = pd.read_csv(\"Data/Gauss_Sampler_Data_\"+str(i))\n",
    "    dwave_cliq_gauss = pd.read_csv(\"Data/Clique_Gauss_Sampler_Data_\"+str(i))\n",
    "    \n",
    "    comparison_data[\"Clique \"+ str(i)] = [cliq_results[1], 2*dwave_cliq.at[0, 'energy'], min_discrepancy(cliq_results[0], \"Data/Clique_Sampler_Data_\" + str(i))]\n",
    "    comparison_data[\"Pegasus \"+ str(i)] = [peg_results[1], 2*dwave_peg.at[0, 'energy'], min_discrepancy(peg_results[0], \"Data/Pegasus_Sampler_Data_\" + str(i))]\n",
    "    comparison_data[\"Gauss \"+ str(i)] = [gauss_results[1], 2*dwave_gauss.at[0, 'energy'], min_discrepancy(gauss_results[0], \"Data/Gauss_Sampler_Data_\"+str(i))]\n",
    "    comparison_data[\"Cliq Gauss \"+ str(i)] = [cliq_gauss_results[1], 2*dwave_cliq_gauss.at[0, 'energy'], min_discrepancy(cliq_gauss_results[0], \"Data/Clique_Gauss_Sampler_Data_\"+str(i))]\n",
    "    "
   ]
  },
  {
   "cell_type": "code",
   "execution_count": 26,
   "metadata": {},
   "outputs": [
    {
     "data": {
      "text/html": [
       "<div>\n",
       "<style scoped>\n",
       "    .dataframe tbody tr th:only-of-type {\n",
       "        vertical-align: middle;\n",
       "    }\n",
       "\n",
       "    .dataframe tbody tr th {\n",
       "        vertical-align: top;\n",
       "    }\n",
       "\n",
       "    .dataframe thead th {\n",
       "        text-align: right;\n",
       "    }\n",
       "</style>\n",
       "<table border=\"1\" class=\"dataframe\">\n",
       "  <thead>\n",
       "    <tr style=\"text-align: right;\">\n",
       "      <th></th>\n",
       "      <th>Clique 1</th>\n",
       "      <th>Pegasus 1</th>\n",
       "      <th>Gauss 1</th>\n",
       "      <th>Cliq Gauss 1</th>\n",
       "      <th>Clique 2</th>\n",
       "      <th>Pegasus 2</th>\n",
       "      <th>Gauss 2</th>\n",
       "      <th>Cliq Gauss 2</th>\n",
       "      <th>Clique 3</th>\n",
       "      <th>Pegasus 3</th>\n",
       "      <th>...</th>\n",
       "      <th>Gauss 8</th>\n",
       "      <th>Cliq Gauss 8</th>\n",
       "      <th>Clique 9</th>\n",
       "      <th>Pegasus 9</th>\n",
       "      <th>Gauss 9</th>\n",
       "      <th>Cliq Gauss 9</th>\n",
       "      <th>Clique 10</th>\n",
       "      <th>Pegasus 10</th>\n",
       "      <th>Gauss 10</th>\n",
       "      <th>Cliq Gauss 10</th>\n",
       "    </tr>\n",
       "  </thead>\n",
       "  <tbody>\n",
       "    <tr>\n",
       "      <th>PT Min energy</th>\n",
       "      <td>-356.0</td>\n",
       "      <td>-168.0</td>\n",
       "      <td>-170.943072</td>\n",
       "      <td>-356.840903</td>\n",
       "      <td>-344.0</td>\n",
       "      <td>-156.0</td>\n",
       "      <td>-152.717012</td>\n",
       "      <td>-345.971195</td>\n",
       "      <td>-352.0</td>\n",
       "      <td>-148.0</td>\n",
       "      <td>...</td>\n",
       "      <td>-2321.672957</td>\n",
       "      <td>-1877.089574</td>\n",
       "      <td>-1898.0</td>\n",
       "      <td>-2252.0</td>\n",
       "      <td>-2149.131375</td>\n",
       "      <td>-1922.493696</td>\n",
       "      <td>-1874.0</td>\n",
       "      <td>-2232.0</td>\n",
       "      <td>-2149.795976</td>\n",
       "      <td>-1885.607940</td>\n",
       "    </tr>\n",
       "    <tr>\n",
       "      <th>DWave Min Energy</th>\n",
       "      <td>-356.0</td>\n",
       "      <td>-168.0</td>\n",
       "      <td>-170.943072</td>\n",
       "      <td>-356.840903</td>\n",
       "      <td>-344.0</td>\n",
       "      <td>-156.0</td>\n",
       "      <td>-152.717012</td>\n",
       "      <td>-345.971195</td>\n",
       "      <td>-352.0</td>\n",
       "      <td>-148.0</td>\n",
       "      <td>...</td>\n",
       "      <td>-2230.793052</td>\n",
       "      <td>-1740.065592</td>\n",
       "      <td>-1666.0</td>\n",
       "      <td>-2116.0</td>\n",
       "      <td>-1924.012639</td>\n",
       "      <td>-1729.620283</td>\n",
       "      <td>-1730.0</td>\n",
       "      <td>-2212.0</td>\n",
       "      <td>-2137.896090</td>\n",
       "      <td>-1731.617204</td>\n",
       "    </tr>\n",
       "    <tr>\n",
       "      <th>Discrepancy</th>\n",
       "      <td>0.0</td>\n",
       "      <td>0.0</td>\n",
       "      <td>0.000000</td>\n",
       "      <td>0.000000</td>\n",
       "      <td>0.0</td>\n",
       "      <td>0.0</td>\n",
       "      <td>0.000000</td>\n",
       "      <td>0.000000</td>\n",
       "      <td>0.0</td>\n",
       "      <td>0.0</td>\n",
       "      <td>...</td>\n",
       "      <td>102.000000</td>\n",
       "      <td>37.000000</td>\n",
       "      <td>32.0</td>\n",
       "      <td>191.0</td>\n",
       "      <td>201.000000</td>\n",
       "      <td>52.000000</td>\n",
       "      <td>27.0</td>\n",
       "      <td>197.0</td>\n",
       "      <td>222.000000</td>\n",
       "      <td>56.000000</td>\n",
       "    </tr>\n",
       "  </tbody>\n",
       "</table>\n",
       "<p>3 rows × 40 columns</p>\n",
       "</div>"
      ],
      "text/plain": [
       "                  Clique 1  Pegasus 1     Gauss 1  Cliq Gauss 1  Clique 2  \\\n",
       "PT Min energy       -356.0     -168.0 -170.943072   -356.840903    -344.0   \n",
       "DWave Min Energy    -356.0     -168.0 -170.943072   -356.840903    -344.0   \n",
       "Discrepancy            0.0        0.0    0.000000      0.000000       0.0   \n",
       "\n",
       "                  Pegasus 2     Gauss 2  Cliq Gauss 2  Clique 3  Pegasus 3  \\\n",
       "PT Min energy        -156.0 -152.717012   -345.971195    -352.0     -148.0   \n",
       "DWave Min Energy     -156.0 -152.717012   -345.971195    -352.0     -148.0   \n",
       "Discrepancy             0.0    0.000000      0.000000       0.0        0.0   \n",
       "\n",
       "                  ...      Gauss 8  Cliq Gauss 8  Clique 9  Pegasus 9  \\\n",
       "PT Min energy     ... -2321.672957  -1877.089574   -1898.0    -2252.0   \n",
       "DWave Min Energy  ... -2230.793052  -1740.065592   -1666.0    -2116.0   \n",
       "Discrepancy       ...   102.000000     37.000000      32.0      191.0   \n",
       "\n",
       "                      Gauss 9  Cliq Gauss 9  Clique 10  Pegasus 10  \\\n",
       "PT Min energy    -2149.131375  -1922.493696    -1874.0     -2232.0   \n",
       "DWave Min Energy -1924.012639  -1729.620283    -1730.0     -2212.0   \n",
       "Discrepancy        201.000000     52.000000       27.0       197.0   \n",
       "\n",
       "                     Gauss 10  Cliq Gauss 10  \n",
       "PT Min energy    -2149.795976   -1885.607940  \n",
       "DWave Min Energy -2137.896090   -1731.617204  \n",
       "Discrepancy        222.000000      56.000000  \n",
       "\n",
       "[3 rows x 40 columns]"
      ]
     },
     "execution_count": 26,
     "metadata": {},
     "output_type": "execute_result"
    }
   ],
   "source": [
    "comparison_df = pd.DataFrame(comparison_data, index = comparison_data_rows)\n",
    "comparison_df"
   ]
  },
  {
   "cell_type": "code",
   "execution_count": 27,
   "metadata": {},
   "outputs": [],
   "source": [
    "comparison_df.to_csv(\"Data/Comparison_data.csv\")"
   ]
  },
  {
   "cell_type": "code",
   "execution_count": 28,
   "metadata": {},
   "outputs": [],
   "source": [
    "comp_data = comparison_df"
   ]
  },
  {
   "cell_type": "code",
   "execution_count": 31,
   "metadata": {},
   "outputs": [],
   "source": [
    "dwave_peg = [comp_data.at[\"DWave Min Energy\", \"Pegasus \" + str(i)] for i in range(1, 11)]\n",
    "pt_peg = [comp_data.at[\"PT Min energy\", \"Pegasus \" + str(i)] for i in range(1, 11)]\n",
    "dwave_gauss_peg = [comp_data.at[\"DWave Min Energy\", \"Gauss \" + str(i)] for i in range(1, 11)]\n",
    "pt_gauss_peg = [comp_data.at[\"PT Min energy\", \"Gauss \" + str(i)] for i in range(1, 11)]"
   ]
  },
  {
   "cell_type": "code",
   "execution_count": 34,
   "metadata": {},
   "outputs": [],
   "source": [
    "dwave_cliq = [comp_data.at[\"DWave Min Energy\", \"Clique \" + str(i)] for i in range(1, 11)]\n",
    "pt_cliq = [comp_data.at[\"PT Min energy\", \"Clique \" + str(i)] for i in range(1, 11)]\n",
    "dwave_gauss_cliq = [comp_data.at[\"DWave Min Energy\", \"Cliq Gauss \" + str(i)] for i in range(1, 11)]\n",
    "pt_gauss_cliq = [comp_data.at[\"PT Min energy\", \"Cliq Gauss \" + str(i)] for i in range(1, 11)]"
   ]
  },
  {
   "cell_type": "code",
   "execution_count": 42,
   "metadata": {},
   "outputs": [
    {
     "data": {
      "image/png": "[encoded data removed]",
      "text/plain": [
       "<Figure size 432x288 with 1 Axes>"
      ]
     },
     "metadata": {
      "needs_background": "light"
     },
     "output_type": "display_data"
    }
   ],
   "source": [
    "import matplotlib.pyplot as plt\n",
    "fig, ax = plt.subplots()\n",
    "ax.set_title(\"Pegasus Subgraph, Size 40\")\n",
    "ax.errorbar([0], np.mean(dwave_peg[0:5]), yerr = np.std(dwave_peg[0:5]), marker ='o', label = 'D-Wave', capsize = 10, color = 'tab:orange')\n",
    "ax.errorbar([0], np.mean(pt_peg[0:5]), yerr = np.std(pt_peg[0:5]), marker = 'o', label = \"PT\", capsize = 10, color = 'tab:blue')\n",
    "ax.errorbar([1], np.mean(dwave_gauss_peg[0:5]), yerr = np.std(dwave_gauss_peg[0:5]), marker ='o', capsize = 10, color = 'tab:orange', ecolor = 'tab:orange')\n",
    "ax.errorbar([1], np.mean(pt_gauss_peg[0:5]), yerr = np.std(pt_gauss_peg[0:5]), marker = 'o', capsize = 10, color = 'tab:blue',ecolor = 'tab:blue')\n",
    "\n",
    "ax.set_xticks([-.5, 0, 1, 1.5])\n",
    "ax.set_xticklabels((None, 'Uniform +1, -1', 'Gaussian', None))\n",
    "ax.set_xlabel('Distribution of Hamiltonian Entries')\n",
    "ax.set_ylabel('Energy')\n",
    "ax.legend(loc = 'upper left')\n",
    "plt.savefig('Data/pegasus_40.png')\n",
    "plt.show()"
   ]
  },
  {
   "cell_type": "code",
   "execution_count": 43,
   "metadata": {},
   "outputs": [
    {
     "data": {
      "image/png": "[encoded data removed]",
      "text/plain": [
       "<Figure size 432x288 with 1 Axes>"
      ]
     },
     "metadata": {
      "needs_background": "light"
     },
     "output_type": "display_data"
    }
   ],
   "source": [
    "fig, ax = plt.subplots()\n",
    "ax.set_title(\"Pegasus Subgraph, Size 448\")\n",
    "ax.errorbar([0], np.mean(dwave_peg[6:]), yerr = np.std(dwave_peg[6:]), marker ='o', label = 'D-Wave', capsize = 10)\n",
    "ax.errorbar([0], np.mean(pt_peg[6:]), yerr = np.std(pt_peg[6:]), marker = 'o', label = \"PT\", capsize = 10)\n",
    "ax.errorbar([1], np.mean(dwave_gauss_peg[6:]), yerr = np.std(dwave_gauss_peg[6:]), marker ='o', capsize = 10, color = 'tab:orange', ecolor = 'tab:orange')\n",
    "ax.errorbar([1], np.mean(pt_gauss_peg[6:]), yerr = np.std(pt_gauss_peg[6:]), marker = 'o', capsize = 10, color = 'tab:blue',ecolor = 'tab:blue')\n",
    "\n",
    "ax.set_xticks([-.5, 0, 1, 1.5])\n",
    "ax.set_xticklabels((None, 'Uniform +1, -1', 'Gaussian', None))\n",
    "ax.set_xlabel('Distribution of Hamiltonian Entries')\n",
    "ax.set_ylabel('Energy')\n",
    "ax.legend(loc = 'upper left')\n",
    "plt.savefig('Data/pegasus_448.png')\n",
    "plt.show()"
   ]
  },
  {
   "cell_type": "code",
   "execution_count": 44,
   "metadata": {},
   "outputs": [
    {
     "data": {
      "image/png": "[encoded data removed]",
      "text/plain": [
       "<Figure size 432x288 with 1 Axes>"
      ]
     },
     "metadata": {
      "needs_background": "light"
     },
     "output_type": "display_data"
    }
   ],
   "source": [
    "fig, ax = plt.subplots()\n",
    "ax.set_title(\"Complete Graph, Size 40\")\n",
    "ax.errorbar([0], np.mean(dwave_cliq[0:5]), yerr = np.std(dwave_cliq[0:5]), marker ='o', label = 'D-Wave', capsize = 10, color = 'tab:orange')\n",
    "ax.errorbar([0], np.mean(pt_cliq[0:5]), yerr = np.std(pt_cliq[0:5]), marker = 'o', label = \"PT\", capsize = 10, color = 'tab:blue')\n",
    "ax.errorbar([1], np.mean(dwave_gauss_cliq[0:5]), yerr = np.std(dwave_gauss_cliq[0:5]), marker ='o', capsize = 10, color = 'tab:orange', ecolor = 'tab:orange')\n",
    "ax.errorbar([1], np.mean(pt_gauss_cliq[0:5]), yerr = np.std(pt_gauss_cliq[0:5]), marker = 'o', capsize = 10, color = 'tab:blue',ecolor = 'tab:blue')\n",
    "\n",
    "ax.set_xticks([-.5, 0, 1, 1.5])\n",
    "ax.set_xticklabels((None, 'Uniform +1, -1', 'Gaussian', None))\n",
    "ax.set_xlabel('Distribution of Hamiltonian Entries')\n",
    "ax.set_ylabel('Energy')\n",
    "ax.legend(loc = 'upper left')\n",
    "plt.savefig('Data/clique_40.png')\n",
    "plt.show()"
   ]
  },
  {
   "cell_type": "code",
   "execution_count": 45,
   "metadata": {},
   "outputs": [
    {
     "data": {
      "image/png": "[encoded data removed]",
      "text/plain": [
       "<Figure size 432x288 with 1 Axes>"
      ]
     },
     "metadata": {
      "needs_background": "light"
     },
     "output_type": "display_data"
    }
   ],
   "source": [
    "fig, ax = plt.subplots()\n",
    "ax.set_title(\"Complete Graph, Size 119\")\n",
    "ax.errorbar([0], np.mean(dwave_cliq[6:]), yerr = np.std(dwave_cliq[6:]), marker ='o', label = 'D-Wave', capsize = 10)\n",
    "ax.errorbar([0], np.mean(pt_cliq[6:]), yerr = np.std(pt_cliq[6:]), marker = 'o', label = \"PT\", capsize = 10)\n",
    "ax.errorbar([1], np.mean(dwave_gauss_cliq[6:]), yerr = np.std(dwave_gauss_cliq[6:]), marker ='o', capsize = 10, color = 'tab:orange', ecolor = 'tab:orange')\n",
    "ax.errorbar([1], np.mean(pt_gauss_cliq[6:]), yerr = np.std(pt_gauss_cliq[6:]), marker = 'o', capsize = 10, color = 'tab:blue',ecolor = 'tab:blue')\n",
    "\n",
    "ax.set_xticks([-.5, 0, 1, 1.5])\n",
    "ax.set_xticklabels((None, 'Uniform +1, -1', 'Gaussian', None))\n",
    "ax.set_xlabel('Distribution of Hamiltonian Entries')\n",
    "ax.set_ylabel('Energy')\n",
    "ax.legend(loc = 'upper left')\n",
    "plt.savefig('Data/clique_119.png')\n",
    "plt.show()"
   ]
  },
  {
   "cell_type": "code",
   "execution_count": 7,
   "metadata": {},
   "outputs": [
    {
     "data": {
      "text/plain": [
       "0.10580357142857143"
      ]
     },
     "execution_count": 7,
     "metadata": {},
     "output_type": "execute_result"
    }
   ],
   "source": [
    "import numpy as np\n",
    "np.mean([comp_data.at[2, \"Cliq Gauss \" + str(i)] for i in range(6, 11)])/448"
   ]
  },
  {
   "cell_type": "code",
   "execution_count": null,
   "metadata": {},
   "outputs": [],
   "source": []
  }
 ],
 "metadata": {
  "kernelspec": {
   "display_name": "Python 3",
   "language": "python",
   "name": "python3"
  },
  "language_info": {
   "codemirror_mode": {
    "name": "ipython",
    "version": 3
   },
   "file_extension": ".py",
   "mimetype": "text/x-python",
   "name": "python",
   "nbconvert_exporter": "python",
   "pygments_lexer": "ipython3",
   "version": "3.8.2"
  }
 },
 "nbformat": 4,
 "nbformat_minor": 4
}

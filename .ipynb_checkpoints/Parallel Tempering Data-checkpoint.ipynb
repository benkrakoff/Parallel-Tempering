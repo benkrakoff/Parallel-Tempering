{
 "cells": [
  {
   "cell_type": "code",
   "execution_count": 5,
   "metadata": {},
   "outputs": [],
   "source": [
    "N = 100\n",
    "path_hamiltonian = np.zeros((N, N))\n",
    "\n",
    "for i in range(N):\n",
    "    for j in range(N):\n",
    "        if (i+1)%N == j or (i-1)%N == j:\n",
    "            path_hamiltonian[i][j] = -1\n",
    "\n",
    "\n",
    "A = np.zeros((N, N))\n",
    "A.fill(.5)\n",
    "random_hamiltonian = 2*(rng.binomial(1, .5, (N, N)) - A)\n",
    "random_hamiltonian = (random_hamiltonian + random_hamiltonian.T)/2\n",
    "\n",
    "for i in range(N):\n",
    "    random_hamiltonian[i][i] = 0"
   ]
  },
  {
   "cell_type": "code",
   "execution_count": 15,
   "metadata": {},
   "outputs": [],
   "source": [
    "import pandas as pd\n",
    "import numpy as numpy\n",
    "import ParallelTempering\n",
    "\n",
    "sparse_H_energy = []\n",
    "clique_H_energy = []\n",
    "\n",
    "for i in range(5):\n",
    "    sparse_H_data = pd.read_csv(\"Hamiltonian_\" + str(i+1))\n",
    "    clique_H_data = pd.read_csv(\"Clique_Hamiltonian_\" + str(i+1))\n",
    "    sparse_H = np.zeros((40, 40))\n",
    "    clique_H = np.zeros((40, 40))\n",
    "    \n",
    "    for i in range(40):\n",
    "        for j in range(40):\n",
    "            sparse_H[i][j] = sparse_H_data.iat[i, j+1]\n",
    "            clique_H[i][j] = clique_H_data.iat[i, j+1]\n",
    "    \n",
    "    sparse_H_energy.append(ParallelTempering.find_min(sparse_H, np.arange(1, 10, .5) , 40, 10)[1])\n",
    "    clique_H_energy.append(ParallelTempering.find_min(clique_H, np.arange(1, 10, .5), 40, 10)[1])\n",
    "    "
   ]
  },
  {
   "cell_type": "code",
   "execution_count": 31,
   "metadata": {},
   "outputs": [],
   "source": [
    "dwave_sparse_H = []\n",
    "dwave_clique_H = []\n",
    "for i in range(5):\n",
    "    dwave_sparse_H.append(pd.read_csv(\"Sampler_Data_\" + str(i+1)).at[0, 'energy'])\n",
    "    dwave_clique_H.append(pd.read_csv(\"Clique_Sampler_Data_\" + str(i+1)).at[0, 'energy'])"
   ]
  },
  {
   "cell_type": "code",
   "execution_count": 36,
   "metadata": {},
   "outputs": [
    {
     "data": {
      "text/plain": [
       "[-356.0, -344.0, -352.0, -348.0, -336.0]"
      ]
     },
     "execution_count": 36,
     "metadata": {},
     "output_type": "execute_result"
    }
   ],
   "source": [
    "[2*energy for energy in dwave_clique_H]"
   ]
  },
  {
   "cell_type": "code",
   "execution_count": 33,
   "metadata": {},
   "outputs": [
    {
     "data": {
      "text/plain": [
       "[-356.0, -340.0, -348.0, -348.0, -336.0]"
      ]
     },
     "execution_count": 33,
     "metadata": {},
     "output_type": "execute_result"
    }
   ],
   "source": [
    "clique_H_energy"
   ]
  },
  {
   "cell_type": "code",
   "execution_count": null,
   "metadata": {},
   "outputs": [],
   "source": []
  }
 ],
 "metadata": {
  "kernelspec": {
   "display_name": "Python 3",
   "language": "python",
   "name": "python3"
  },
  "language_info": {
   "codemirror_mode": {
    "name": "ipython",
    "version": 3
   },
   "file_extension": ".py",
   "mimetype": "text/x-python",
   "name": "python",
   "nbconvert_exporter": "python",
   "pygments_lexer": "ipython3",
   "version": "3.8.2"
  }
 },
 "nbformat": 4,
 "nbformat_minor": 4
}

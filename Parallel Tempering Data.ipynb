{
 "cells": [
  {
   "cell_type": "code",
   "execution_count": 5,
   "metadata": {},
   "outputs": [],
   "source": [
    "N = 100\n",
    "path_hamiltonian = np.zeros((N, N))\n",
    "\n",
    "for i in range(N):\n",
    "    for j in range(N):\n",
    "        if (i+1)%N == j or (i-1)%N == j:\n",
    "            path_hamiltonian[i][j] = -1\n",
    "\n",
    "\n",
    "A = np.zeros((N, N))\n",
    "A.fill(.5)\n",
    "random_hamiltonian = 2*(rng.binomial(1, .5, (N, N)) - A)\n",
    "random_hamiltonian = (random_hamiltonian + random_hamiltonian.T)/2\n",
    "\n",
    "for i in range(N):\n",
    "    random_hamiltonian[i][i] = 0"
   ]
  },
  {
   "cell_type": "code",
   "execution_count": 60,
   "metadata": {},
   "outputs": [],
   "source": [
    "import pandas as pd\n",
    "import numpy as numpy\n",
    "import ParallelTempering\n",
    "\n",
    "sparse_H_energy = []\n",
    "sparse_H_time = []\n",
    "clique_H_energy = []\n",
    "clique_H_time = []\n",
    "\n",
    "for i in range(5):\n",
    "    #sparse_H_data = pd.read_csv(\"Pegasus_Hamiltonian_\" + str(i+6))\n",
    "    clique_H_data = pd.read_csv(\"Clique_Hamiltonian_\" + str(i+6))\n",
    "    #sparse_H = np.zeros((100, 100))\n",
    "    clique_H = np.zeros((119, 119))\n",
    "    \n",
    "    for i in range(119):\n",
    "        for j in range(119):\n",
    "            #sparse_H[i][j] = sparse_H_data.iat[i, j+1]\n",
    "            clique_H[i][j] = clique_H_data.iat[i, j+1]\n",
    "    \n",
    "    results = ParallelTempering.find_min(clique_H, np.arange(1, 10, .5) , 119, 30)\n",
    "    #sparse_H_energy.append(results[1])\n",
    "    #sparse_H_time.append(results[3])\n",
    "    clique_H_energy.append(results[1])\n",
    "    clique_H_time.append(results[3])\n",
    "    "
   ]
  },
  {
   "cell_type": "code",
   "execution_count": 57,
   "metadata": {},
   "outputs": [],
   "source": [
    "#dwave_sparse_H = []\n",
    "dwave_clique_H = []\n",
    "for i in range(5):\n",
    "    #dwave_sparse_H.append(pd.read_csv(\"Pesasus_Sampler_Data_\" + str(i+6)).at[0, 'energy'])\n",
    "    dwave_clique_H.append(pd.read_csv(\"Clique_Sampler_Data_\" + str(i+6)).at[0, 'energy'])"
   ]
  },
  {
   "cell_type": "code",
   "execution_count": 58,
   "metadata": {},
   "outputs": [
    {
     "data": {
      "text/plain": [
       "[-1690.0, -1714.0, -1714.0, -1666.0, -1730.0]"
      ]
     },
     "execution_count": 58,
     "metadata": {},
     "output_type": "execute_result"
    }
   ],
   "source": [
    "[2*energy for energy in dwave_clique_H]"
   ]
  },
  {
   "cell_type": "code",
   "execution_count": 61,
   "metadata": {},
   "outputs": [
    {
     "data": {
      "text/plain": [
       "[-1858.0, -1890.0, -1914.0, -1898.0, -1874.0]"
      ]
     },
     "execution_count": 61,
     "metadata": {},
     "output_type": "execute_result"
    }
   ],
   "source": [
    "clique_H_energy"
   ]
  },
  {
   "cell_type": "code",
   "execution_count": 62,
   "metadata": {},
   "outputs": [
    {
     "data": {
      "text/plain": [
       "[7.4323039054870605,\n",
       " 7.304080009460449,\n",
       " 6.366044998168945,\n",
       " 2.4233930110931396,\n",
       " 3.2963900566101074]"
      ]
     },
     "execution_count": 62,
     "metadata": {},
     "output_type": "execute_result"
    }
   ],
   "source": [
    "clique_H_time"
   ]
  },
  {
   "cell_type": "code",
   "execution_count": null,
   "metadata": {},
   "outputs": [],
   "source": []
  }
 ],
 "metadata": {
  "kernelspec": {
   "display_name": "Python 3",
   "language": "python",
   "name": "python3"
  },
  "language_info": {
   "codemirror_mode": {
    "name": "ipython",
    "version": 3
   },
   "file_extension": ".py",
   "mimetype": "text/x-python",
   "name": "python",
   "nbconvert_exporter": "python",
   "pygments_lexer": "ipython3",
   "version": "3.8.2"
  }
 },
 "nbformat": 4,
 "nbformat_minor": 4
}
